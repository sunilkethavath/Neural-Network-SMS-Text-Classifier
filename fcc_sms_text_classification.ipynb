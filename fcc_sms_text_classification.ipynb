{
  "nbformat": 4,
  "nbformat_minor": 0,
  "metadata": {
    "colab": {
      "name": "fcc_sms_text_classification.ipynb",
      "provenance": [],
      "collapsed_sections": [],
      "include_colab_link": true
    },
    "kernelspec": {
      "display_name": "Python 3",
      "name": "python3"
    }
  },
  "cells": [
    {
      "cell_type": "markdown",
      "metadata": {
        "id": "view-in-github",
        "colab_type": "text"
      },
      "source": [
        "<a href=\"https://colab.research.google.com/github/momijizen/Machine-Learning-with-Python-Projects/blob/main/fcc_sms_text_classification.ipynb\" target=\"_parent\"><img src=\"https://colab.research.google.com/assets/colab-badge.svg\" alt=\"Open In Colab\"/></a>"
      ]
    },
    {
      "cell_type": "markdown",
      "metadata": {
        "id": "Eg62Pmz3o83v"
      },
      "source": [
        "*Note: You are currently reading this using Google Colaboratory which is a cloud-hosted version of Jupyter Notebook. This is a document containing both text cells for documentation and runnable code cells. If you are unfamiliar with Jupyter Notebook, watch this 3-minute introduction before starting this challenge: https://www.youtube.com/watch?v=inN8seMm7UI*\n",
        "\n",
        "---\n",
        "\n",
        "In this challenge, you need to create a machine learning model that will classify SMS messages as either \"ham\" or \"spam\". A \"ham\" message is a normal message sent by a friend. A \"spam\" message is an advertisement or a message sent by a company.\n",
        "\n",
        "You should create a function called `predict_message` that takes a message string as an argument and returns a list. The first element in the list should be a number between zero and one that indicates the likeliness of \"ham\" (0) or \"spam\" (1). The second element in the list should be the word \"ham\" or \"spam\", depending on which is most likely.\n",
        "\n",
        "For this challenge, you will use the [SMS Spam Collection dataset](http://www.dt.fee.unicamp.br/~tiago/smsspamcollection/). The dataset has already been grouped into train data and test data.\n",
        "\n",
        "The first two cells import the libraries and data. The final cell tests your model and function. Add your code in between these cells.\n"
      ]
    },
    {
      "cell_type": "code",
      "metadata": {
        "id": "8RZOuS9LWQvv",
        "colab": {
          "base_uri": "https://localhost:8080/"
        },
        "outputId": "014e7f85-5265-47d4-a2be-0d6f8507b09c"
      },
      "source": [
        "# import libraries\n",
        "try:\n",
        "  # %tensorflow_version only exists in Colab.\n",
        "  !pip install tf-nightly\n",
        "except Exception:\n",
        "  pass\n",
        "import tensorflow as tf\n",
        "import pandas as pd\n",
        "from tensorflow import keras\n",
        "!pip install tensorflow-datasets\n",
        "import tensorflow_datasets as tfds\n",
        "import numpy as np\n",
        "import matplotlib.pyplot as plt\n",
        "\n",
        "print(tf.__version__)"
      ],
      "execution_count": null,
      "outputs": [
        {
          "output_type": "stream",
          "text": [
            "Collecting tf-nightly\n",
            "\u001b[?25l  Downloading https://files.pythonhosted.org/packages/65/c8/7e849a0a1d1eb7fce4d99212e2cdd78c6abce3610f04efde8cf2d21f0ee1/tf_nightly-2.5.0.dev20210218-cp36-cp36m-manylinux2010_x86_64.whl (408.3MB)\n",
            "\u001b[K     |████████████████████████████████| 408.3MB 41kB/s \n",
            "\u001b[?25hRequirement already satisfied: numpy~=1.19.2 in /usr/local/lib/python3.6/dist-packages (from tf-nightly) (1.19.5)\n",
            "Requirement already satisfied: typing-extensions~=3.7.4 in /usr/local/lib/python3.6/dist-packages (from tf-nightly) (3.7.4.3)\n",
            "Requirement already satisfied: google-pasta~=0.2 in /usr/local/lib/python3.6/dist-packages (from tf-nightly) (0.2.0)\n",
            "Collecting h5py~=3.1.0\n",
            "\u001b[?25l  Downloading https://files.pythonhosted.org/packages/70/7a/e53e500335afb6b1aade11227cdf107fca54106a1dca5c9d13242a043f3b/h5py-3.1.0-cp36-cp36m-manylinux1_x86_64.whl (4.0MB)\n",
            "\u001b[K     |████████████████████████████████| 4.0MB 39.5MB/s \n",
            "\u001b[?25hRequirement already satisfied: protobuf>=3.9.2 in /usr/local/lib/python3.6/dist-packages (from tf-nightly) (3.12.4)\n",
            "Requirement already satisfied: keras-preprocessing~=1.1.2 in /usr/local/lib/python3.6/dist-packages (from tf-nightly) (1.1.2)\n",
            "Collecting tb-nightly~=2.5.0.a\n",
            "\u001b[?25l  Downloading https://files.pythonhosted.org/packages/b0/fb/6542e97974d83c2130c483b6f7f89ec04d0349a5169c3277c00732e8d261/tb_nightly-2.5.0a20210218-py3-none-any.whl (5.9MB)\n",
            "\u001b[K     |████████████████████████████████| 5.9MB 43.9MB/s \n",
            "\u001b[?25hRequirement already satisfied: opt-einsum~=3.3.0 in /usr/local/lib/python3.6/dist-packages (from tf-nightly) (3.3.0)\n",
            "Requirement already satisfied: six~=1.15.0 in /usr/local/lib/python3.6/dist-packages (from tf-nightly) (1.15.0)\n",
            "Requirement already satisfied: absl-py~=0.10 in /usr/local/lib/python3.6/dist-packages (from tf-nightly) (0.10.0)\n",
            "Collecting tf-estimator-nightly~=2.5.0.dev\n",
            "\u001b[?25l  Downloading https://files.pythonhosted.org/packages/c5/59/86486b5ccd6b65f47927e9f414278d33432a851ed46438274d48fac3f369/tf_estimator_nightly-2.5.0.dev2021021801-py2.py3-none-any.whl (462kB)\n",
            "\u001b[K     |████████████████████████████████| 471kB 48.0MB/s \n",
            "\u001b[?25hCollecting gast==0.4.0\n",
            "  Downloading https://files.pythonhosted.org/packages/b6/48/583c032b79ae5b3daa02225a675aeb673e58d2cb698e78510feceb11958c/gast-0.4.0-py3-none-any.whl\n",
            "Requirement already satisfied: flatbuffers~=1.12.0 in /usr/local/lib/python3.6/dist-packages (from tf-nightly) (1.12)\n",
            "Collecting grpcio~=1.34.0\n",
            "\u001b[?25l  Downloading https://files.pythonhosted.org/packages/ab/f5/3d3bcb82beae990021cbf6877456a1aab650e68c902194566edd6a73e37c/grpcio-1.34.1-cp36-cp36m-manylinux2014_x86_64.whl (4.0MB)\n",
            "\u001b[K     |████████████████████████████████| 4.0MB 39.3MB/s \n",
            "\u001b[?25hRequirement already satisfied: wheel~=0.35 in /usr/local/lib/python3.6/dist-packages (from tf-nightly) (0.36.2)\n",
            "Requirement already satisfied: astunparse~=1.6.3 in /usr/local/lib/python3.6/dist-packages (from tf-nightly) (1.6.3)\n",
            "Requirement already satisfied: termcolor~=1.1.0 in /usr/local/lib/python3.6/dist-packages (from tf-nightly) (1.1.0)\n",
            "Requirement already satisfied: wrapt~=1.12.1 in /usr/local/lib/python3.6/dist-packages (from tf-nightly) (1.12.1)\n",
            "Collecting cached-property; python_version < \"3.8\"\n",
            "  Downloading https://files.pythonhosted.org/packages/48/19/f2090f7dad41e225c7f2326e4cfe6fff49e57dedb5b53636c9551f86b069/cached_property-1.5.2-py2.py3-none-any.whl\n",
            "Requirement already satisfied: setuptools in /usr/local/lib/python3.6/dist-packages (from protobuf>=3.9.2->tf-nightly) (53.0.0)\n",
            "Collecting tensorboard-data-server<0.4.0,>=0.3.0\n",
            "\u001b[?25l  Downloading https://files.pythonhosted.org/packages/f2/6f/a1a04f6aece9cdabe80fba01241e76172380753801e34ad50d482fbde0c0/tensorboard_data_server-0.3.0-py3-none-manylinux2010_x86_64.whl (3.8MB)\n",
            "\u001b[K     |████████████████████████████████| 3.8MB 44.6MB/s \n",
            "\u001b[?25hRequirement already satisfied: requests<3,>=2.21.0 in /usr/local/lib/python3.6/dist-packages (from tb-nightly~=2.5.0.a->tf-nightly) (2.23.0)\n",
            "Requirement already satisfied: tensorboard-plugin-wit>=1.6.0 in /usr/local/lib/python3.6/dist-packages (from tb-nightly~=2.5.0.a->tf-nightly) (1.8.0)\n",
            "Requirement already satisfied: google-auth<2,>=1.6.3 in /usr/local/lib/python3.6/dist-packages (from tb-nightly~=2.5.0.a->tf-nightly) (1.25.0)\n",
            "Requirement already satisfied: werkzeug>=0.11.15 in /usr/local/lib/python3.6/dist-packages (from tb-nightly~=2.5.0.a->tf-nightly) (1.0.1)\n",
            "Requirement already satisfied: markdown>=2.6.8 in /usr/local/lib/python3.6/dist-packages (from tb-nightly~=2.5.0.a->tf-nightly) (3.3.3)\n",
            "Requirement already satisfied: google-auth-oauthlib<0.5,>=0.4.1 in /usr/local/lib/python3.6/dist-packages (from tb-nightly~=2.5.0.a->tf-nightly) (0.4.2)\n",
            "Requirement already satisfied: certifi>=2017.4.17 in /usr/local/lib/python3.6/dist-packages (from requests<3,>=2.21.0->tb-nightly~=2.5.0.a->tf-nightly) (2020.12.5)\n",
            "Requirement already satisfied: chardet<4,>=3.0.2 in /usr/local/lib/python3.6/dist-packages (from requests<3,>=2.21.0->tb-nightly~=2.5.0.a->tf-nightly) (3.0.4)\n",
            "Requirement already satisfied: urllib3!=1.25.0,!=1.25.1,<1.26,>=1.21.1 in /usr/local/lib/python3.6/dist-packages (from requests<3,>=2.21.0->tb-nightly~=2.5.0.a->tf-nightly) (1.24.3)\n",
            "Requirement already satisfied: idna<3,>=2.5 in /usr/local/lib/python3.6/dist-packages (from requests<3,>=2.21.0->tb-nightly~=2.5.0.a->tf-nightly) (2.10)\n",
            "Requirement already satisfied: rsa<5,>=3.1.4; python_version >= \"3.6\" in /usr/local/lib/python3.6/dist-packages (from google-auth<2,>=1.6.3->tb-nightly~=2.5.0.a->tf-nightly) (4.7)\n",
            "Requirement already satisfied: cachetools<5.0,>=2.0.0 in /usr/local/lib/python3.6/dist-packages (from google-auth<2,>=1.6.3->tb-nightly~=2.5.0.a->tf-nightly) (4.2.1)\n",
            "Requirement already satisfied: pyasn1-modules>=0.2.1 in /usr/local/lib/python3.6/dist-packages (from google-auth<2,>=1.6.3->tb-nightly~=2.5.0.a->tf-nightly) (0.2.8)\n",
            "Requirement already satisfied: importlib-metadata; python_version < \"3.8\" in /usr/local/lib/python3.6/dist-packages (from markdown>=2.6.8->tb-nightly~=2.5.0.a->tf-nightly) (3.4.0)\n",
            "Requirement already satisfied: requests-oauthlib>=0.7.0 in /usr/local/lib/python3.6/dist-packages (from google-auth-oauthlib<0.5,>=0.4.1->tb-nightly~=2.5.0.a->tf-nightly) (1.3.0)\n",
            "Requirement already satisfied: pyasn1>=0.1.3 in /usr/local/lib/python3.6/dist-packages (from rsa<5,>=3.1.4; python_version >= \"3.6\"->google-auth<2,>=1.6.3->tb-nightly~=2.5.0.a->tf-nightly) (0.4.8)\n",
            "Requirement already satisfied: zipp>=0.5 in /usr/local/lib/python3.6/dist-packages (from importlib-metadata; python_version < \"3.8\"->markdown>=2.6.8->tb-nightly~=2.5.0.a->tf-nightly) (3.4.0)\n",
            "Requirement already satisfied: oauthlib>=3.0.0 in /usr/local/lib/python3.6/dist-packages (from requests-oauthlib>=0.7.0->google-auth-oauthlib<0.5,>=0.4.1->tb-nightly~=2.5.0.a->tf-nightly) (3.1.0)\n",
            "\u001b[31mERROR: tensorflow 2.4.1 has requirement gast==0.3.3, but you'll have gast 0.4.0 which is incompatible.\u001b[0m\n",
            "\u001b[31mERROR: tensorflow 2.4.1 has requirement grpcio~=1.32.0, but you'll have grpcio 1.34.1 which is incompatible.\u001b[0m\n",
            "\u001b[31mERROR: tensorflow 2.4.1 has requirement h5py~=2.10.0, but you'll have h5py 3.1.0 which is incompatible.\u001b[0m\n",
            "Installing collected packages: cached-property, h5py, grpcio, tensorboard-data-server, tb-nightly, tf-estimator-nightly, gast, tf-nightly\n",
            "  Found existing installation: h5py 2.10.0\n",
            "    Uninstalling h5py-2.10.0:\n",
            "      Successfully uninstalled h5py-2.10.0\n",
            "  Found existing installation: grpcio 1.32.0\n",
            "    Uninstalling grpcio-1.32.0:\n",
            "      Successfully uninstalled grpcio-1.32.0\n",
            "  Found existing installation: gast 0.3.3\n",
            "    Uninstalling gast-0.3.3:\n",
            "      Successfully uninstalled gast-0.3.3\n",
            "Successfully installed cached-property-1.5.2 gast-0.4.0 grpcio-1.34.1 h5py-3.1.0 tb-nightly-2.5.0a20210218 tensorboard-data-server-0.3.0 tf-estimator-nightly-2.5.0.dev2021021801 tf-nightly-2.5.0.dev20210218\n",
            "Requirement already satisfied: tensorflow-datasets in /usr/local/lib/python3.6/dist-packages (4.0.1)\n",
            "Requirement already satisfied: protobuf>=3.6.1 in /usr/local/lib/python3.6/dist-packages (from tensorflow-datasets) (3.12.4)\n",
            "Requirement already satisfied: dill in /usr/local/lib/python3.6/dist-packages (from tensorflow-datasets) (0.3.3)\n",
            "Requirement already satisfied: dataclasses; python_version < \"3.7\" in /usr/local/lib/python3.6/dist-packages (from tensorflow-datasets) (0.8)\n",
            "Requirement already satisfied: requests>=2.19.0 in /usr/local/lib/python3.6/dist-packages (from tensorflow-datasets) (2.23.0)\n",
            "Requirement already satisfied: importlib-resources; python_version < \"3.9\" in /usr/local/lib/python3.6/dist-packages (from tensorflow-datasets) (5.1.0)\n",
            "Requirement already satisfied: termcolor in /usr/local/lib/python3.6/dist-packages (from tensorflow-datasets) (1.1.0)\n",
            "Requirement already satisfied: absl-py in /usr/local/lib/python3.6/dist-packages (from tensorflow-datasets) (0.10.0)\n",
            "Requirement already satisfied: dm-tree in /usr/local/lib/python3.6/dist-packages (from tensorflow-datasets) (0.1.5)\n",
            "Requirement already satisfied: attrs>=18.1.0 in /usr/local/lib/python3.6/dist-packages (from tensorflow-datasets) (20.3.0)\n",
            "Requirement already satisfied: numpy in /usr/local/lib/python3.6/dist-packages (from tensorflow-datasets) (1.19.5)\n",
            "Requirement already satisfied: promise in /usr/local/lib/python3.6/dist-packages (from tensorflow-datasets) (2.3)\n",
            "Requirement already satisfied: tensorflow-metadata in /usr/local/lib/python3.6/dist-packages (from tensorflow-datasets) (0.27.0)\n",
            "Requirement already satisfied: six in /usr/local/lib/python3.6/dist-packages (from tensorflow-datasets) (1.15.0)\n",
            "Requirement already satisfied: future in /usr/local/lib/python3.6/dist-packages (from tensorflow-datasets) (0.16.0)\n",
            "Requirement already satisfied: tqdm in /usr/local/lib/python3.6/dist-packages (from tensorflow-datasets) (4.41.1)\n",
            "Requirement already satisfied: setuptools in /usr/local/lib/python3.6/dist-packages (from protobuf>=3.6.1->tensorflow-datasets) (53.0.0)\n",
            "Requirement already satisfied: certifi>=2017.4.17 in /usr/local/lib/python3.6/dist-packages (from requests>=2.19.0->tensorflow-datasets) (2020.12.5)\n",
            "Requirement already satisfied: idna<3,>=2.5 in /usr/local/lib/python3.6/dist-packages (from requests>=2.19.0->tensorflow-datasets) (2.10)\n",
            "Requirement already satisfied: urllib3!=1.25.0,!=1.25.1,<1.26,>=1.21.1 in /usr/local/lib/python3.6/dist-packages (from requests>=2.19.0->tensorflow-datasets) (1.24.3)\n",
            "Requirement already satisfied: chardet<4,>=3.0.2 in /usr/local/lib/python3.6/dist-packages (from requests>=2.19.0->tensorflow-datasets) (3.0.4)\n",
            "Requirement already satisfied: zipp>=0.4; python_version < \"3.8\" in /usr/local/lib/python3.6/dist-packages (from importlib-resources; python_version < \"3.9\"->tensorflow-datasets) (3.4.0)\n",
            "Requirement already satisfied: googleapis-common-protos<2,>=1.52.0 in /usr/local/lib/python3.6/dist-packages (from tensorflow-metadata->tensorflow-datasets) (1.52.0)\n",
            "2.5.0-dev20210218\n"
          ],
          "name": "stdout"
        }
      ]
    },
    {
      "cell_type": "code",
      "metadata": {
        "id": "lMHwYXHXCar3",
        "colab": {
          "base_uri": "https://localhost:8080/"
        },
        "outputId": "dedd8750-437f-4012-af06-1bc68b567bce"
      },
      "source": [
        "# get data files\n",
        "!wget https://cdn.freecodecamp.org/project-data/sms/train-data.tsv\n",
        "!wget https://cdn.freecodecamp.org/project-data/sms/valid-data.tsv\n",
        "\n",
        "train_file_path = \"train-data.tsv\"\n",
        "test_file_path = \"valid-data.tsv\""
      ],
      "execution_count": null,
      "outputs": [
        {
          "output_type": "stream",
          "text": [
            "--2021-02-19 04:20:52--  https://cdn.freecodecamp.org/project-data/sms/train-data.tsv\n",
            "Resolving cdn.freecodecamp.org (cdn.freecodecamp.org)... 172.67.70.149, 104.26.2.33, 104.26.3.33, ...\n",
            "Connecting to cdn.freecodecamp.org (cdn.freecodecamp.org)|172.67.70.149|:443... connected.\n",
            "HTTP request sent, awaiting response... 200 OK\n",
            "Length: unspecified [text/tab-separated-values]\n",
            "Saving to: ‘train-data.tsv’\n",
            "\n",
            "train-data.tsv          [ <=>                ] 349.84K  --.-KB/s    in 0.02s   \n",
            "\n",
            "2021-02-19 04:20:52 (14.1 MB/s) - ‘train-data.tsv’ saved [358233]\n",
            "\n",
            "--2021-02-19 04:20:52--  https://cdn.freecodecamp.org/project-data/sms/valid-data.tsv\n",
            "Resolving cdn.freecodecamp.org (cdn.freecodecamp.org)... 172.67.70.149, 104.26.2.33, 104.26.3.33, ...\n",
            "Connecting to cdn.freecodecamp.org (cdn.freecodecamp.org)|172.67.70.149|:443... connected.\n",
            "HTTP request sent, awaiting response... 200 OK\n",
            "Length: unspecified [text/tab-separated-values]\n",
            "Saving to: ‘valid-data.tsv’\n",
            "\n",
            "valid-data.tsv          [ <=>                ] 115.99K  --.-KB/s    in 0.02s   \n",
            "\n",
            "2021-02-19 04:20:52 (6.57 MB/s) - ‘valid-data.tsv’ saved [118774]\n",
            "\n"
          ],
          "name": "stdout"
        }
      ]
    },
    {
      "cell_type": "code",
      "metadata": {
        "id": "g_h508FEClxO",
        "colab": {
          "base_uri": "https://localhost:8080/",
          "height": 407
        },
        "outputId": "bc76336d-f776-4d3e-86e8-64e4a748aa1f"
      },
      "source": [
        "df_train = pd.read_csv(train_file_path, sep='\\t')\r\n",
        "df_train.columns  =  ['tags','messages']\r\n",
        "df_train"
      ],
      "execution_count": null,
      "outputs": [
        {
          "output_type": "execute_result",
          "data": {
            "text/html": [
              "<div>\n",
              "<style scoped>\n",
              "    .dataframe tbody tr th:only-of-type {\n",
              "        vertical-align: middle;\n",
              "    }\n",
              "\n",
              "    .dataframe tbody tr th {\n",
              "        vertical-align: top;\n",
              "    }\n",
              "\n",
              "    .dataframe thead th {\n",
              "        text-align: right;\n",
              "    }\n",
              "</style>\n",
              "<table border=\"1\" class=\"dataframe\">\n",
              "  <thead>\n",
              "    <tr style=\"text-align: right;\">\n",
              "      <th></th>\n",
              "      <th>tags</th>\n",
              "      <th>messages</th>\n",
              "    </tr>\n",
              "  </thead>\n",
              "  <tbody>\n",
              "    <tr>\n",
              "      <th>0</th>\n",
              "      <td>ham</td>\n",
              "      <td>you can never do nothing</td>\n",
              "    </tr>\n",
              "    <tr>\n",
              "      <th>1</th>\n",
              "      <td>ham</td>\n",
              "      <td>now u sound like manky scouse boy steve,like! ...</td>\n",
              "    </tr>\n",
              "    <tr>\n",
              "      <th>2</th>\n",
              "      <td>ham</td>\n",
              "      <td>mum say we wan to go then go... then she can s...</td>\n",
              "    </tr>\n",
              "    <tr>\n",
              "      <th>3</th>\n",
              "      <td>ham</td>\n",
              "      <td>never y lei... i v lazy... got wat? dat day ü ...</td>\n",
              "    </tr>\n",
              "    <tr>\n",
              "      <th>4</th>\n",
              "      <td>ham</td>\n",
              "      <td>in xam hall boy asked girl tell me the startin...</td>\n",
              "    </tr>\n",
              "    <tr>\n",
              "      <th>...</th>\n",
              "      <td>...</td>\n",
              "      <td>...</td>\n",
              "    </tr>\n",
              "    <tr>\n",
              "      <th>4173</th>\n",
              "      <td>ham</td>\n",
              "      <td>just woke up. yeesh its late. but i didn't fal...</td>\n",
              "    </tr>\n",
              "    <tr>\n",
              "      <th>4174</th>\n",
              "      <td>ham</td>\n",
              "      <td>what do u reckon as need 2 arrange transport i...</td>\n",
              "    </tr>\n",
              "    <tr>\n",
              "      <th>4175</th>\n",
              "      <td>spam</td>\n",
              "      <td>free entry into our £250 weekly competition ju...</td>\n",
              "    </tr>\n",
              "    <tr>\n",
              "      <th>4176</th>\n",
              "      <td>spam</td>\n",
              "      <td>-pls stop bootydelious (32/f) is inviting you ...</td>\n",
              "    </tr>\n",
              "    <tr>\n",
              "      <th>4177</th>\n",
              "      <td>ham</td>\n",
              "      <td>tell my  bad character which u dnt lik in me. ...</td>\n",
              "    </tr>\n",
              "  </tbody>\n",
              "</table>\n",
              "<p>4178 rows × 2 columns</p>\n",
              "</div>"
            ],
            "text/plain": [
              "      tags                                           messages\n",
              "0      ham                           you can never do nothing\n",
              "1      ham  now u sound like manky scouse boy steve,like! ...\n",
              "2      ham  mum say we wan to go then go... then she can s...\n",
              "3      ham  never y lei... i v lazy... got wat? dat day ü ...\n",
              "4      ham  in xam hall boy asked girl tell me the startin...\n",
              "...    ...                                                ...\n",
              "4173   ham  just woke up. yeesh its late. but i didn't fal...\n",
              "4174   ham  what do u reckon as need 2 arrange transport i...\n",
              "4175  spam  free entry into our £250 weekly competition ju...\n",
              "4176  spam  -pls stop bootydelious (32/f) is inviting you ...\n",
              "4177   ham  tell my  bad character which u dnt lik in me. ...\n",
              "\n",
              "[4178 rows x 2 columns]"
            ]
          },
          "metadata": {
            "tags": []
          },
          "execution_count": 3
        }
      ]
    },
    {
      "cell_type": "code",
      "metadata": {
        "colab": {
          "base_uri": "https://localhost:8080/",
          "height": 407
        },
        "id": "ESfJktCHzJw-",
        "outputId": "0e446ee3-7a91-45bd-a306-d2ee0145e5c6"
      },
      "source": [
        "df_train['tags'] = pd.Categorical(df_train['tags'])\r\n",
        "df_train['tags'] = df_train.tags.cat.codes\r\n",
        "df_train"
      ],
      "execution_count": null,
      "outputs": [
        {
          "output_type": "execute_result",
          "data": {
            "text/html": [
              "<div>\n",
              "<style scoped>\n",
              "    .dataframe tbody tr th:only-of-type {\n",
              "        vertical-align: middle;\n",
              "    }\n",
              "\n",
              "    .dataframe tbody tr th {\n",
              "        vertical-align: top;\n",
              "    }\n",
              "\n",
              "    .dataframe thead th {\n",
              "        text-align: right;\n",
              "    }\n",
              "</style>\n",
              "<table border=\"1\" class=\"dataframe\">\n",
              "  <thead>\n",
              "    <tr style=\"text-align: right;\">\n",
              "      <th></th>\n",
              "      <th>tags</th>\n",
              "      <th>messages</th>\n",
              "    </tr>\n",
              "  </thead>\n",
              "  <tbody>\n",
              "    <tr>\n",
              "      <th>0</th>\n",
              "      <td>0</td>\n",
              "      <td>you can never do nothing</td>\n",
              "    </tr>\n",
              "    <tr>\n",
              "      <th>1</th>\n",
              "      <td>0</td>\n",
              "      <td>now u sound like manky scouse boy steve,like! ...</td>\n",
              "    </tr>\n",
              "    <tr>\n",
              "      <th>2</th>\n",
              "      <td>0</td>\n",
              "      <td>mum say we wan to go then go... then she can s...</td>\n",
              "    </tr>\n",
              "    <tr>\n",
              "      <th>3</th>\n",
              "      <td>0</td>\n",
              "      <td>never y lei... i v lazy... got wat? dat day ü ...</td>\n",
              "    </tr>\n",
              "    <tr>\n",
              "      <th>4</th>\n",
              "      <td>0</td>\n",
              "      <td>in xam hall boy asked girl tell me the startin...</td>\n",
              "    </tr>\n",
              "    <tr>\n",
              "      <th>...</th>\n",
              "      <td>...</td>\n",
              "      <td>...</td>\n",
              "    </tr>\n",
              "    <tr>\n",
              "      <th>4173</th>\n",
              "      <td>0</td>\n",
              "      <td>just woke up. yeesh its late. but i didn't fal...</td>\n",
              "    </tr>\n",
              "    <tr>\n",
              "      <th>4174</th>\n",
              "      <td>0</td>\n",
              "      <td>what do u reckon as need 2 arrange transport i...</td>\n",
              "    </tr>\n",
              "    <tr>\n",
              "      <th>4175</th>\n",
              "      <td>1</td>\n",
              "      <td>free entry into our £250 weekly competition ju...</td>\n",
              "    </tr>\n",
              "    <tr>\n",
              "      <th>4176</th>\n",
              "      <td>1</td>\n",
              "      <td>-pls stop bootydelious (32/f) is inviting you ...</td>\n",
              "    </tr>\n",
              "    <tr>\n",
              "      <th>4177</th>\n",
              "      <td>0</td>\n",
              "      <td>tell my  bad character which u dnt lik in me. ...</td>\n",
              "    </tr>\n",
              "  </tbody>\n",
              "</table>\n",
              "<p>4178 rows × 2 columns</p>\n",
              "</div>"
            ],
            "text/plain": [
              "      tags                                           messages\n",
              "0        0                           you can never do nothing\n",
              "1        0  now u sound like manky scouse boy steve,like! ...\n",
              "2        0  mum say we wan to go then go... then she can s...\n",
              "3        0  never y lei... i v lazy... got wat? dat day ü ...\n",
              "4        0  in xam hall boy asked girl tell me the startin...\n",
              "...    ...                                                ...\n",
              "4173     0  just woke up. yeesh its late. but i didn't fal...\n",
              "4174     0  what do u reckon as need 2 arrange transport i...\n",
              "4175     1  free entry into our £250 weekly competition ju...\n",
              "4176     1  -pls stop bootydelious (32/f) is inviting you ...\n",
              "4177     0  tell my  bad character which u dnt lik in me. ...\n",
              "\n",
              "[4178 rows x 2 columns]"
            ]
          },
          "metadata": {
            "tags": []
          },
          "execution_count": 4
        }
      ]
    },
    {
      "cell_type": "code",
      "metadata": {
        "colab": {
          "base_uri": "https://localhost:8080/",
          "height": 407
        },
        "id": "8PyjN6QRkcHb",
        "outputId": "989b6555-984c-4bb0-863f-36df678f3fdf"
      },
      "source": [
        "df_test = pd.read_csv(test_file_path, sep='\\t')\r\n",
        "df_test.columns = ['tags','messages']\r\n",
        "df_test"
      ],
      "execution_count": null,
      "outputs": [
        {
          "output_type": "execute_result",
          "data": {
            "text/html": [
              "<div>\n",
              "<style scoped>\n",
              "    .dataframe tbody tr th:only-of-type {\n",
              "        vertical-align: middle;\n",
              "    }\n",
              "\n",
              "    .dataframe tbody tr th {\n",
              "        vertical-align: top;\n",
              "    }\n",
              "\n",
              "    .dataframe thead th {\n",
              "        text-align: right;\n",
              "    }\n",
              "</style>\n",
              "<table border=\"1\" class=\"dataframe\">\n",
              "  <thead>\n",
              "    <tr style=\"text-align: right;\">\n",
              "      <th></th>\n",
              "      <th>tags</th>\n",
              "      <th>messages</th>\n",
              "    </tr>\n",
              "  </thead>\n",
              "  <tbody>\n",
              "    <tr>\n",
              "      <th>0</th>\n",
              "      <td>ham</td>\n",
              "      <td>not much, just some textin'. how bout you?</td>\n",
              "    </tr>\n",
              "    <tr>\n",
              "      <th>1</th>\n",
              "      <td>ham</td>\n",
              "      <td>i probably won't eat at all today. i think i'm...</td>\n",
              "    </tr>\n",
              "    <tr>\n",
              "      <th>2</th>\n",
              "      <td>ham</td>\n",
              "      <td>don‘t give a flying monkeys wot they think and...</td>\n",
              "    </tr>\n",
              "    <tr>\n",
              "      <th>3</th>\n",
              "      <td>ham</td>\n",
              "      <td>who are you seeing?</td>\n",
              "    </tr>\n",
              "    <tr>\n",
              "      <th>4</th>\n",
              "      <td>ham</td>\n",
              "      <td>your opinion about me? 1. over 2. jada 3. kusr...</td>\n",
              "    </tr>\n",
              "    <tr>\n",
              "      <th>...</th>\n",
              "      <td>...</td>\n",
              "      <td>...</td>\n",
              "    </tr>\n",
              "    <tr>\n",
              "      <th>1386</th>\n",
              "      <td>ham</td>\n",
              "      <td>true dear..i sat to pray evening and felt so.s...</td>\n",
              "    </tr>\n",
              "    <tr>\n",
              "      <th>1387</th>\n",
              "      <td>ham</td>\n",
              "      <td>what will we do in the shower, baby?</td>\n",
              "    </tr>\n",
              "    <tr>\n",
              "      <th>1388</th>\n",
              "      <td>ham</td>\n",
              "      <td>where are you ? what are you doing ? are yuou ...</td>\n",
              "    </tr>\n",
              "    <tr>\n",
              "      <th>1389</th>\n",
              "      <td>spam</td>\n",
              "      <td>ur cash-balance is currently 500 pounds - to m...</td>\n",
              "    </tr>\n",
              "    <tr>\n",
              "      <th>1390</th>\n",
              "      <td>spam</td>\n",
              "      <td>not heard from u4 a while. call 4 rude chat pr...</td>\n",
              "    </tr>\n",
              "  </tbody>\n",
              "</table>\n",
              "<p>1391 rows × 2 columns</p>\n",
              "</div>"
            ],
            "text/plain": [
              "      tags                                           messages\n",
              "0      ham         not much, just some textin'. how bout you?\n",
              "1      ham  i probably won't eat at all today. i think i'm...\n",
              "2      ham  don‘t give a flying monkeys wot they think and...\n",
              "3      ham                                who are you seeing?\n",
              "4      ham  your opinion about me? 1. over 2. jada 3. kusr...\n",
              "...    ...                                                ...\n",
              "1386   ham  true dear..i sat to pray evening and felt so.s...\n",
              "1387   ham               what will we do in the shower, baby?\n",
              "1388   ham  where are you ? what are you doing ? are yuou ...\n",
              "1389  spam  ur cash-balance is currently 500 pounds - to m...\n",
              "1390  spam  not heard from u4 a while. call 4 rude chat pr...\n",
              "\n",
              "[1391 rows x 2 columns]"
            ]
          },
          "metadata": {
            "tags": []
          },
          "execution_count": 5
        }
      ]
    },
    {
      "cell_type": "code",
      "metadata": {
        "colab": {
          "base_uri": "https://localhost:8080/",
          "height": 407
        },
        "id": "f_YaJ1qvzZ6G",
        "outputId": "c0ed8381-7ad3-41c6-aae4-da01f34e5c2e"
      },
      "source": [
        "df_test['tags'] = pd.Categorical(df_test['tags'])\r\n",
        "df_test['tags'] = df_test.tags.cat.codes\r\n",
        "df_test"
      ],
      "execution_count": null,
      "outputs": [
        {
          "output_type": "execute_result",
          "data": {
            "text/html": [
              "<div>\n",
              "<style scoped>\n",
              "    .dataframe tbody tr th:only-of-type {\n",
              "        vertical-align: middle;\n",
              "    }\n",
              "\n",
              "    .dataframe tbody tr th {\n",
              "        vertical-align: top;\n",
              "    }\n",
              "\n",
              "    .dataframe thead th {\n",
              "        text-align: right;\n",
              "    }\n",
              "</style>\n",
              "<table border=\"1\" class=\"dataframe\">\n",
              "  <thead>\n",
              "    <tr style=\"text-align: right;\">\n",
              "      <th></th>\n",
              "      <th>tags</th>\n",
              "      <th>messages</th>\n",
              "    </tr>\n",
              "  </thead>\n",
              "  <tbody>\n",
              "    <tr>\n",
              "      <th>0</th>\n",
              "      <td>0</td>\n",
              "      <td>not much, just some textin'. how bout you?</td>\n",
              "    </tr>\n",
              "    <tr>\n",
              "      <th>1</th>\n",
              "      <td>0</td>\n",
              "      <td>i probably won't eat at all today. i think i'm...</td>\n",
              "    </tr>\n",
              "    <tr>\n",
              "      <th>2</th>\n",
              "      <td>0</td>\n",
              "      <td>don‘t give a flying monkeys wot they think and...</td>\n",
              "    </tr>\n",
              "    <tr>\n",
              "      <th>3</th>\n",
              "      <td>0</td>\n",
              "      <td>who are you seeing?</td>\n",
              "    </tr>\n",
              "    <tr>\n",
              "      <th>4</th>\n",
              "      <td>0</td>\n",
              "      <td>your opinion about me? 1. over 2. jada 3. kusr...</td>\n",
              "    </tr>\n",
              "    <tr>\n",
              "      <th>...</th>\n",
              "      <td>...</td>\n",
              "      <td>...</td>\n",
              "    </tr>\n",
              "    <tr>\n",
              "      <th>1386</th>\n",
              "      <td>0</td>\n",
              "      <td>true dear..i sat to pray evening and felt so.s...</td>\n",
              "    </tr>\n",
              "    <tr>\n",
              "      <th>1387</th>\n",
              "      <td>0</td>\n",
              "      <td>what will we do in the shower, baby?</td>\n",
              "    </tr>\n",
              "    <tr>\n",
              "      <th>1388</th>\n",
              "      <td>0</td>\n",
              "      <td>where are you ? what are you doing ? are yuou ...</td>\n",
              "    </tr>\n",
              "    <tr>\n",
              "      <th>1389</th>\n",
              "      <td>1</td>\n",
              "      <td>ur cash-balance is currently 500 pounds - to m...</td>\n",
              "    </tr>\n",
              "    <tr>\n",
              "      <th>1390</th>\n",
              "      <td>1</td>\n",
              "      <td>not heard from u4 a while. call 4 rude chat pr...</td>\n",
              "    </tr>\n",
              "  </tbody>\n",
              "</table>\n",
              "<p>1391 rows × 2 columns</p>\n",
              "</div>"
            ],
            "text/plain": [
              "      tags                                           messages\n",
              "0        0         not much, just some textin'. how bout you?\n",
              "1        0  i probably won't eat at all today. i think i'm...\n",
              "2        0  don‘t give a flying monkeys wot they think and...\n",
              "3        0                                who are you seeing?\n",
              "4        0  your opinion about me? 1. over 2. jada 3. kusr...\n",
              "...    ...                                                ...\n",
              "1386     0  true dear..i sat to pray evening and felt so.s...\n",
              "1387     0               what will we do in the shower, baby?\n",
              "1388     0  where are you ? what are you doing ? are yuou ...\n",
              "1389     1  ur cash-balance is currently 500 pounds - to m...\n",
              "1390     1  not heard from u4 a while. call 4 rude chat pr...\n",
              "\n",
              "[1391 rows x 2 columns]"
            ]
          },
          "metadata": {
            "tags": []
          },
          "execution_count": 6
        }
      ]
    },
    {
      "cell_type": "code",
      "metadata": {
        "id": "YfI4evt9xmAH"
      },
      "source": [
        "train_target = df_train.pop('tags')\r\n",
        "test_target = df_test.pop('tags')"
      ],
      "execution_count": null,
      "outputs": []
    },
    {
      "cell_type": "code",
      "metadata": {
        "id": "bO5wpzoT0-3p"
      },
      "source": [
        "train_dataset = tf.data.Dataset.from_tensor_slices((df_train.values, train_target.values))\r\n",
        "test_dataset = tf.data.Dataset.from_tensor_slices((df_test.values, test_target.values))"
      ],
      "execution_count": null,
      "outputs": []
    },
    {
      "cell_type": "code",
      "metadata": {
        "colab": {
          "base_uri": "https://localhost:8080/"
        },
        "id": "BsFTBpVx1a3N",
        "outputId": "64f3576a-25e6-48f8-beae-799653bd0813"
      },
      "source": [
        "for example, label in train_dataset.take(6):\r\n",
        "  print('messages: ', example.numpy())\r\n",
        "  print('tags: ', label.numpy())"
      ],
      "execution_count": null,
      "outputs": [
        {
          "output_type": "stream",
          "text": [
            "messages:  [b'you can never do nothing']\n",
            "tags:  0\n",
            "messages:  [b'now u sound like manky scouse boy steve,like! i is travelling on da bus home.wot has u inmind 4 recreation dis eve?']\n",
            "tags:  0\n",
            "messages:  [b'mum say we wan to go then go... then she can shun bian watch da glass exhibition...']\n",
            "tags:  0\n",
            "messages:  [b'never y lei... i v lazy... got wat? dat day \\xc3\\xbc send me da url cant work one...']\n",
            "tags:  0\n",
            "messages:  [b'in xam hall boy asked girl tell me the starting term for dis answer i can den manage on my own after lot of hesitation n lookin around silently she said the! intha ponnungale ipaditan;)']\n",
            "tags:  0\n",
            "messages:  [b\"genius what's up. how your brother. pls send his number to my skype.\"]\n",
            "tags:  0\n"
          ],
          "name": "stdout"
        }
      ]
    },
    {
      "cell_type": "code",
      "metadata": {
        "colab": {
          "base_uri": "https://localhost:8080/"
        },
        "id": "QhS8xNVv2od8",
        "outputId": "10270fb1-5541-4610-bf00-725515ddcd80"
      },
      "source": [
        "for example, label in test_dataset.take(6):\r\n",
        "  print('messages: ', example.numpy())\r\n",
        "  print('tags: ', label.numpy())"
      ],
      "execution_count": null,
      "outputs": [
        {
          "output_type": "stream",
          "text": [
            "messages:  [b\"not much, just some textin'. how bout you?\"]\n",
            "tags:  0\n",
            "messages:  [b\"i probably won't eat at all today. i think i'm gonna pop. how was your weekend? did u miss me?\"]\n",
            "tags:  0\n",
            "messages:  [b'don\\xe2\\x80\\x98t give a flying monkeys wot they think and i certainly don\\xe2\\x80\\x98t mind. any friend of mine and all that!']\n",
            "tags:  0\n",
            "messages:  [b'who are you seeing?']\n",
            "tags:  0\n",
            "messages:  [b'your opinion about me? 1. over 2. jada 3. kusruthi 4. lovable 5. silent 6. spl character 7. not matured 8. stylish 9. simple pls reply..']\n",
            "tags:  0\n",
            "messages:  [b'yesterday its with me only . now am going home.']\n",
            "tags:  0\n"
          ],
          "name": "stdout"
        }
      ]
    },
    {
      "cell_type": "code",
      "metadata": {
        "id": "wMjpUWk3IkF6"
      },
      "source": [
        "BUFFER_SIZE = 10000\r\n",
        "BATCH_SIZE = 64"
      ],
      "execution_count": null,
      "outputs": []
    },
    {
      "cell_type": "code",
      "metadata": {
        "id": "CgqHKefqIsJR"
      },
      "source": [
        "train_dataset = train_dataset.shuffle(BUFFER_SIZE).batch(BATCH_SIZE).prefetch(tf.data.AUTOTUNE)\r\n",
        "test_dataset = test_dataset.batch(BATCH_SIZE).prefetch(tf.data.AUTOTUNE)"
      ],
      "execution_count": null,
      "outputs": []
    },
    {
      "cell_type": "code",
      "metadata": {
        "colab": {
          "base_uri": "https://localhost:8080/"
        },
        "id": "EUJuZqzjIyR5",
        "outputId": "2e877569-8236-49ae-8f9f-dfbf8ac89420"
      },
      "source": [
        "for example, label in train_dataset.take(1):\r\n",
        "  print('messages: ', example.numpy()[:3])\r\n",
        "  print()\r\n",
        "  print('tags: ', label.numpy()[:3])"
      ],
      "execution_count": null,
      "outputs": [
        {
          "output_type": "stream",
          "text": [
            "messages:  [[b'well then you have a great weekend!']\n",
            " [b\"have you heard about that job? i'm going to that wildlife talk again tonight if u want2come. its that2worzels and a wizzle or whatever it is?!\"]\n",
            " [b'oops. 4 got that bit.']]\n",
            "\n",
            "tags:  [0 0 0]\n"
          ],
          "name": "stdout"
        }
      ]
    },
    {
      "cell_type": "code",
      "metadata": {
        "id": "dE0ZZlK4I1WE"
      },
      "source": [
        "# Create the text encoder\r\n",
        "VOCAB_SIZE=1000\r\n",
        "encoder = tf.keras.layers.experimental.preprocessing.TextVectorization(\r\n",
        "    max_tokens=VOCAB_SIZE)\r\n",
        "encoder.adapt(train_dataset.map(lambda text, label: text))"
      ],
      "execution_count": null,
      "outputs": []
    },
    {
      "cell_type": "code",
      "metadata": {
        "colab": {
          "base_uri": "https://localhost:8080/"
        },
        "id": "Ym9_m1nCJHWg",
        "outputId": "6584784d-1940-4954-c35b-deee09f3d9d9"
      },
      "source": [
        "vocab = np.array(encoder.get_vocabulary())\r\n",
        "vocab[:100]"
      ],
      "execution_count": null,
      "outputs": [
        {
          "output_type": "execute_result",
          "data": {
            "text/plain": [
              "array(['', '[UNK]', 'to', 'i', 'you', 'a', 'the', 'u', 'and', 'in', 'is',\n",
              "       'me', 'my', 'for', 'your', 'of', 'it', 'call', 'have', 'on',\n",
              "       'that', 'are', 'now', 'im', '2', 'not', 'but', 'so', 'at', 'or',\n",
              "       'do', 'can', 'with', 'be', 'will', 'if', 'get', 'ur', 'just', 'we',\n",
              "       'this', 'no', 'its', 'up', 'go', '4', 'ok', 'dont', 'ltgt', 'free',\n",
              "       'when', 'out', 'how', 'all', 'what', 'from', 'know', 'like', 'got',\n",
              "       'then', 'come', 'good', 'ill', 'time', 'am', 'was', 'only', 'day',\n",
              "       'he', 'love', 'send', 'there', 'as', 'want', 'text', 'going', 'by',\n",
              "       'ü', 'one', 'need', 'about', 'txt', 'lor', 'still', 'our', 'see',\n",
              "       'n', 'r', 'home', 'stop', 'sorry', 'reply', 'back', 'today',\n",
              "       'tell', 'she', 'new', 'been', 'mobile', 'later'], dtype='<U15')"
            ]
          },
          "metadata": {
            "tags": []
          },
          "execution_count": 15
        }
      ]
    },
    {
      "cell_type": "code",
      "metadata": {
        "colab": {
          "base_uri": "https://localhost:8080/"
        },
        "id": "J1cyNxJjJIQW",
        "outputId": "07cec89b-6f7c-4c97-9817-3c5f42712bfc"
      },
      "source": [
        "encoded_example = encoder(example)[:3].numpy()\r\n",
        "encoded_example"
      ],
      "execution_count": null,
      "outputs": [
        {
          "output_type": "execute_result",
          "data": {
            "text/plain": [
              "array([[105,  59,   4,  18,   5, 127, 392,   0,   0,   0,   0,   0,   0,\n",
              "          0,   0,   0,   0,   0,   0,   0,   0,   0,   0,   0,   0,   0,\n",
              "          0,   0,   0,   0,   0,   0,   0,   0,   0,   0,   0,   0,   0,\n",
              "          0,   0,   0,   0,   0,   0,   0,   0,   0,   0,   0,   0,   0,\n",
              "          0,   0,   0,   0,   0,   0,   0,   0,   0,   0,   0,   0,   0,\n",
              "          0,   0,   0,   0,   0,   0,   0],\n",
              "       [ 18,   4,   1,  80,  20, 369,  23,  75,   2,  20,   1, 270, 178,\n",
              "        195,  35,   7,   1,  42,   1,   8,   5,   1,  29, 611,  16,  10,\n",
              "          0,   0,   0,   0,   0,   0,   0,   0,   0,   0,   0,   0,   0,\n",
              "          0,   0,   0,   0,   0,   0,   0,   0,   0,   0,   0,   0,   0,\n",
              "          0,   0,   0,   0,   0,   0,   0,   0,   0,   0,   0,   0,   0,\n",
              "          0,   0,   0,   0,   0,   0,   0],\n",
              "       [953,  45,  58,  20, 275,   0,   0,   0,   0,   0,   0,   0,   0,\n",
              "          0,   0,   0,   0,   0,   0,   0,   0,   0,   0,   0,   0,   0,\n",
              "          0,   0,   0,   0,   0,   0,   0,   0,   0,   0,   0,   0,   0,\n",
              "          0,   0,   0,   0,   0,   0,   0,   0,   0,   0,   0,   0,   0,\n",
              "          0,   0,   0,   0,   0,   0,   0,   0,   0,   0,   0,   0,   0,\n",
              "          0,   0,   0,   0,   0,   0,   0]])"
            ]
          },
          "metadata": {
            "tags": []
          },
          "execution_count": 16
        }
      ]
    },
    {
      "cell_type": "code",
      "metadata": {
        "colab": {
          "base_uri": "https://localhost:8080/"
        },
        "id": "jchehhafJLmo",
        "outputId": "878fede6-8ebb-4262-9566-dce342674094"
      },
      "source": [
        "for n in range(3):\r\n",
        "  print(\"Original: \", example[n].numpy())\r\n",
        "  print(\"Round-trip: \", \" \".join(vocab[encoded_example[n]]))\r\n",
        "  print()"
      ],
      "execution_count": null,
      "outputs": [
        {
          "output_type": "stream",
          "text": [
            "Original:  [b'well then you have a great weekend!']\n",
            "Round-trip:  well then you have a great weekend                                                                 \n",
            "\n",
            "Original:  [b\"have you heard about that job? i'm going to that wildlife talk again tonight if u want2come. its that2worzels and a wizzle or whatever it is?!\"]\n",
            "Round-trip:  have you [UNK] about that job im going to that [UNK] talk again tonight if u [UNK] its [UNK] and a [UNK] or whatever it is                                              \n",
            "\n",
            "Original:  [b'oops. 4 got that bit.']\n",
            "Round-trip:  oops 4 got that bit                                                                   \n",
            "\n"
          ],
          "name": "stdout"
        }
      ]
    },
    {
      "cell_type": "code",
      "metadata": {
        "id": "7w3Lmx32JP5u"
      },
      "source": [
        "# Create the model\r\n",
        "model = tf.keras.Sequential([\r\n",
        "    encoder,\r\n",
        "    tf.keras.layers.Embedding(len(encoder.get_vocabulary()), 64, mask_zero=True),\r\n",
        "    tf.keras.layers.Bidirectional(tf.keras.layers.LSTM(64,  return_sequences=True)),\r\n",
        "    tf.keras.layers.Bidirectional(tf.keras.layers.LSTM(32)),\r\n",
        "    tf.keras.layers.Dense(64, activation='relu'),\r\n",
        "    tf.keras.layers.Dropout(0.5),\r\n",
        "    tf.keras.layers.Dense(1)\r\n",
        "])"
      ],
      "execution_count": null,
      "outputs": []
    },
    {
      "cell_type": "code",
      "metadata": {
        "id": "djAwyv2bJrco"
      },
      "source": [
        "model.compile(loss=tf.keras.losses.BinaryCrossentropy(from_logits=True),\r\n",
        "              optimizer=tf.keras.optimizers.Adam(1e-4),\r\n",
        "              metrics=['accuracy'])\r\n"
      ],
      "execution_count": null,
      "outputs": []
    },
    {
      "cell_type": "code",
      "metadata": {
        "colab": {
          "base_uri": "https://localhost:8080/"
        },
        "id": "3538_j7VJtrU",
        "outputId": "5bdae1ce-b679-45f9-9633-a9edee9e2962"
      },
      "source": [
        "# Train the model\r\n",
        "history = model.fit(train_dataset, epochs=10,\r\n",
        "                    validation_data=test_dataset, \r\n",
        "                    validation_steps=12)\r\n"
      ],
      "execution_count": null,
      "outputs": [
        {
          "output_type": "stream",
          "text": [
            "Epoch 1/10\n",
            "66/66 [==============================] - 34s 280ms/step - loss: 0.6829 - accuracy: 0.8532 - val_loss: 0.6212 - val_accuracy: 0.8633\n",
            "Epoch 2/10\n",
            "66/66 [==============================] - 13s 197ms/step - loss: 0.5774 - accuracy: 0.8641 - val_loss: 0.4666 - val_accuracy: 0.8633\n",
            "Epoch 3/10\n",
            "66/66 [==============================] - 13s 200ms/step - loss: 0.4289 - accuracy: 0.8739 - val_loss: 0.3284 - val_accuracy: 0.8633\n",
            "Epoch 4/10\n",
            "66/66 [==============================] - 13s 197ms/step - loss: 0.2907 - accuracy: 0.8619 - val_loss: 0.1730 - val_accuracy: 0.8685\n",
            "Epoch 5/10\n",
            "66/66 [==============================] - 13s 199ms/step - loss: 0.1550 - accuracy: 0.9203 - val_loss: 0.1098 - val_accuracy: 0.9701\n",
            "Epoch 6/10\n",
            "66/66 [==============================] - 13s 204ms/step - loss: 0.0964 - accuracy: 0.9820 - val_loss: 0.0869 - val_accuracy: 0.9753\n",
            "Epoch 7/10\n",
            "66/66 [==============================] - 13s 202ms/step - loss: 0.0693 - accuracy: 0.9848 - val_loss: 0.0696 - val_accuracy: 0.9831\n",
            "Epoch 8/10\n",
            "66/66 [==============================] - 13s 197ms/step - loss: 0.0542 - accuracy: 0.9886 - val_loss: 0.0645 - val_accuracy: 0.9844\n",
            "Epoch 9/10\n",
            "66/66 [==============================] - 14s 207ms/step - loss: 0.0476 - accuracy: 0.9858 - val_loss: 0.0638 - val_accuracy: 0.9857\n",
            "Epoch 10/10\n",
            "66/66 [==============================] - 14s 207ms/step - loss: 0.0475 - accuracy: 0.9892 - val_loss: 0.0598 - val_accuracy: 0.9883\n"
          ],
          "name": "stdout"
        }
      ]
    },
    {
      "cell_type": "code",
      "metadata": {
        "colab": {
          "base_uri": "https://localhost:8080/"
        },
        "id": "9QZWoRsNJ1Pn",
        "outputId": "fadb23fb-9b8f-4cc4-e666-182bd39345f3"
      },
      "source": [
        "test_loss, test_acc = model.evaluate(test_dataset)\r\n",
        "\r\n",
        "print('Test Loss: {}'.format(test_loss))\r\n",
        "print('Test Accuracy: {}'.format(test_acc))"
      ],
      "execution_count": null,
      "outputs": [
        {
          "output_type": "stream",
          "text": [
            "22/22 [==============================] - 1s 53ms/step - loss: 0.0562 - accuracy: 0.9863\n",
            "Test Loss: 0.05617307126522064\n",
            "Test Accuracy: 0.9863407611846924\n"
          ],
          "name": "stdout"
        }
      ]
    },
    {
      "cell_type": "code",
      "metadata": {
        "id": "kfWG7ehw_6In"
      },
      "source": [
        "def plot_graphs(history, metric):\r\n",
        "  plt.plot(history.history[metric])\r\n",
        "  plt.plot(history.history['val_'+metric], '')\r\n",
        "  plt.xlabel(\"Epochs\")\r\n",
        "  plt.ylabel(metric)\r\n",
        "  plt.legend([metric, 'val_'+metric])"
      ],
      "execution_count": null,
      "outputs": []
    },
    {
      "cell_type": "code",
      "metadata": {
        "colab": {
          "base_uri": "https://localhost:8080/",
          "height": 388
        },
        "id": "kBEOKx5qeEUI",
        "outputId": "685515b1-29a8-43e7-ede6-d0ebe2ead101"
      },
      "source": [
        "plt.figure(figsize=(16,6))\r\n",
        "plt.subplot(1,2,1)\r\n",
        "plot_graphs(history, 'accuracy')\r\n",
        "plt.subplot(1,2,2)\r\n",
        "plot_graphs(history, 'loss')"
      ],
      "execution_count": null,
      "outputs": [
        {
          "output_type": "display_data",
          "data": {
            "image/png": "[encoded data removed]",
            "text/plain": [
              "<Figure size 1152x432 with 2 Axes>"
            ]
          },
          "metadata": {
            "tags": [],
            "needs_background": "light"
          }
        }
      ]
    },
    {
      "cell_type": "code",
      "metadata": {
        "id": "J9tD9yACG6M9",
        "colab": {
          "base_uri": "https://localhost:8080/"
        },
        "outputId": "ec65fa77-c667-4e76-9063-009a80b1a268"
      },
      "source": [
        "# function to predict messages based on model\n",
        "# (should return list containing prediction and label, ex. [0.008318834938108921, 'ham'])\n",
        "def predict_message(pred_text):\n",
        "\n",
        "  prediction = []\n",
        "  pred = model.predict(np.array([pred_text]))\n",
        "  pred = pred[0,0]\n",
        "\n",
        "  if pred >= 0 :\n",
        "    prediction = [pred, 'spam']\n",
        "  else :\n",
        "    prediction = [pred, 'ham']\n",
        "\n",
        "  return (prediction)\n",
        "\n",
        "\n",
        "pred_text = \"how are you doing today?\"\n",
        "\n",
        "prediction = predict_message(pred_text)\n",
        "print(prediction)"
      ],
      "execution_count": null,
      "outputs": [
        {
          "output_type": "stream",
          "text": [
            "[-5.814967, 'ham']\n"
          ],
          "name": "stdout"
        }
      ]
    },
    {
      "cell_type": "code",
      "metadata": {
        "id": "Dxotov85SjsC",
        "colab": {
          "base_uri": "https://localhost:8080/"
        },
        "outputId": "a57598d2-5392-434b-d438-5b93c2aecc9a"
      },
      "source": [
        "# Run this cell to test your function and model. Do not modify contents.\n",
        "def test_predictions():\n",
        "  test_messages = [\"how are you doing today\",\n",
        "                   \"sale today! to stop texts call 98912460324\",\n",
        "                   \"i dont want to go. can we try it a different day? available sat\",\n",
        "                   \"our new mobile video service is live. just install on your phone to start watching.\",\n",
        "                   \"you have won £1000 cash! call to claim your prize.\",\n",
        "                   \"i'll bring it tomorrow. don't forget the milk.\",\n",
        "                   \"wow, is your arm alright. that happened to me one time too\"\n",
        "                  ]\n",
        "\n",
        "  test_answers = [\"ham\", \"spam\", \"ham\", \"spam\", \"spam\", \"ham\", \"ham\"]\n",
        "  passed = True\n",
        "\n",
        "  for msg, ans in zip(test_messages, test_answers):\n",
        "    prediction = predict_message(msg)\n",
        "    if prediction[1] != ans:\n",
        "      passed = False\n",
        "\n",
        "  if passed:\n",
        "    print(\"You passed the challenge. Great job!\")\n",
        "  else:\n",
        "    print(\"You haven't passed yet. Keep trying.\")\n",
        "\n",
        "test_predictions()\n"
      ],
      "execution_count": null,
      "outputs": [
        {
          "output_type": "stream",
          "text": [
            "You passed the challenge. Great job!\n"
          ],
          "name": "stdout"
        }
      ]
    }
  ]
}